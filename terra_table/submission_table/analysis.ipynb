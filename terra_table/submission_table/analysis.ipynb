{
 "cells": [
  {
   "cell_type": "code",
   "execution_count": 1,
   "metadata": {},
   "outputs": [],
   "source": [
    "import pandas as pd\n",
    "import json\n",
    "from datetime import datetime"
   ]
  },
  {
   "cell_type": "code",
   "execution_count": 7,
   "metadata": {},
   "outputs": [],
   "source": [
    "data = pd.read_csv(\"FastqToCram_sub1249.tsv\", sep='\\t')"
   ]
  },
  {
   "cell_type": "code",
   "execution_count": 8,
   "metadata": {},
   "outputs": [],
   "source": [
    "data.statusLastChangedDate = data.statusLastChangedDate.map(datetime.fromisoformat)\n",
    "entityType = json.loads(data.workflowEntity[0])['entityType']\n",
    "data.workflowEntity = data.workflowEntity.map(lambda x: json.loads(x)['entityName'])\n"
   ]
  },
  {
   "cell_type": "markdown",
   "metadata": {},
   "source": [
    "# Failed Samples"
   ]
  },
  {
   "cell_type": "code",
   "execution_count": 12,
   "metadata": {},
   "outputs": [
    {
     "data": {
      "text/html": [
       "<div>\n",
       "<style scoped>\n",
       "    .dataframe tbody tr th:only-of-type {\n",
       "        vertical-align: middle;\n",
       "    }\n",
       "\n",
       "    .dataframe tbody tr th {\n",
       "        vertical-align: top;\n",
       "    }\n",
       "\n",
       "    .dataframe thead th {\n",
       "        text-align: right;\n",
       "    }\n",
       "</style>\n",
       "<table border=\"1\" class=\"dataframe\">\n",
       "  <thead>\n",
       "    <tr style=\"text-align: right;\">\n",
       "      <th></th>\n",
       "      <th>membership:sample_set_id</th>\n",
       "      <th>sample</th>\n",
       "    </tr>\n",
       "  </thead>\n",
       "  <tbody>\n",
       "    <tr>\n",
       "      <th>0</th>\n",
       "      <td>subm_failed</td>\n",
       "      <td>00-090R1_NORMAL</td>\n",
       "    </tr>\n",
       "    <tr>\n",
       "      <th>24</th>\n",
       "      <td>subm_failed</td>\n",
       "      <td>05-221A_NORMAL</td>\n",
       "    </tr>\n",
       "    <tr>\n",
       "      <th>33</th>\n",
       "      <td>subm_failed</td>\n",
       "      <td>12-011C1_NORMAL</td>\n",
       "    </tr>\n",
       "    <tr>\n",
       "      <th>34</th>\n",
       "      <td>subm_failed</td>\n",
       "      <td>12-021C1_NORMAL</td>\n",
       "    </tr>\n",
       "    <tr>\n",
       "      <th>58</th>\n",
       "      <td>subm_failed</td>\n",
       "      <td>AAPC-IP_LG-069-Normal-SM-3NC71</td>\n",
       "    </tr>\n",
       "    <tr>\n",
       "      <th>...</th>\n",
       "      <td>...</td>\n",
       "      <td>...</td>\n",
       "    </tr>\n",
       "    <tr>\n",
       "      <th>1064</th>\n",
       "      <td>subm_failed</td>\n",
       "      <td>RP-1532_PCProject_0133_BLOOD_BC_v1_Exome_OnPrem</td>\n",
       "    </tr>\n",
       "    <tr>\n",
       "      <th>1069</th>\n",
       "      <td>subm_failed</td>\n",
       "      <td>RP-1532_PCProject_0187_BLOOD_BC_v1_Exome_OnPrem</td>\n",
       "    </tr>\n",
       "    <tr>\n",
       "      <th>1079</th>\n",
       "      <td>subm_failed</td>\n",
       "      <td>RP-1532_PCProject_0383_SALIVA_v4_Exome_OnPrem</td>\n",
       "    </tr>\n",
       "    <tr>\n",
       "      <th>1084</th>\n",
       "      <td>subm_failed</td>\n",
       "      <td>RP-1532_PCProject_0588_SALIVA_v2_Exome_OnPrem</td>\n",
       "    </tr>\n",
       "    <tr>\n",
       "      <th>1165</th>\n",
       "      <td>subm_failed</td>\n",
       "      <td>SC_9099-Normal</td>\n",
       "    </tr>\n",
       "  </tbody>\n",
       "</table>\n",
       "<p>84 rows × 2 columns</p>\n",
       "</div>"
      ],
      "text/plain": [
       "     membership:sample_set_id                                           sample\n",
       "0                 subm_failed                                  00-090R1_NORMAL\n",
       "24                subm_failed                                   05-221A_NORMAL\n",
       "33                subm_failed                                  12-011C1_NORMAL\n",
       "34                subm_failed                                  12-021C1_NORMAL\n",
       "58                subm_failed                   AAPC-IP_LG-069-Normal-SM-3NC71\n",
       "...                       ...                                              ...\n",
       "1064              subm_failed  RP-1532_PCProject_0133_BLOOD_BC_v1_Exome_OnPrem\n",
       "1069              subm_failed  RP-1532_PCProject_0187_BLOOD_BC_v1_Exome_OnPrem\n",
       "1079              subm_failed    RP-1532_PCProject_0383_SALIVA_v4_Exome_OnPrem\n",
       "1084              subm_failed    RP-1532_PCProject_0588_SALIVA_v2_Exome_OnPrem\n",
       "1165              subm_failed                                   SC_9099-Normal\n",
       "\n",
       "[84 rows x 2 columns]"
      ]
     },
     "execution_count": 12,
     "metadata": {},
     "output_type": "execute_result"
    }
   ],
   "source": [
    "failed = data[data.status == \"Failed\"]\n",
    "failed_sample_set = pd.DataFrame({f\"membership:{entityType}_set_id\":\"subm_failed\", entityType:failed.workflowEntity})\n",
    "failed_sample_set"
   ]
  },
  {
   "cell_type": "code",
   "execution_count": 13,
   "metadata": {},
   "outputs": [],
   "source": [
    "failed_sample_set.to_csv(\"subm_failed.tsv\", sep='\\t', index=False)"
   ]
  },
  {
   "cell_type": "markdown",
   "metadata": {},
   "source": [
    "# Other Analysis"
   ]
  },
  {
   "cell_type": "code",
   "execution_count": 19,
   "metadata": {},
   "outputs": [
    {
     "data": {
      "text/plain": [
       "<Axes: >"
      ]
     },
     "execution_count": 19,
     "metadata": {},
     "output_type": "execute_result"
    },
    {
     "data": {
      "image/png": "[encoded data removed]",
      "text/plain": [
       "<Figure size 640x480 with 1 Axes>"
      ]
     },
     "metadata": {},
     "output_type": "display_data"
    }
   ],
   "source": [
    "data.statusLastChangedDate.hist()"
   ]
  }
 ],
 "metadata": {
  "kernelspec": {
   "display_name": "base",
   "language": "python",
   "name": "python3"
  },
  "language_info": {
   "codemirror_mode": {
    "name": "ipython",
    "version": 3
   },
   "file_extension": ".py",
   "mimetype": "text/x-python",
   "name": "python",
   "nbconvert_exporter": "python",
   "pygments_lexer": "ipython3",
   "version": "3.11.5"
  }
 },
 "nbformat": 4,
 "nbformat_minor": 2
}
