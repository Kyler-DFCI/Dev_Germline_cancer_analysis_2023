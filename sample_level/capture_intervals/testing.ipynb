{
 "cells": [
  {
   "cell_type": "code",
   "execution_count": 4,
   "metadata": {},
   "outputs": [],
   "source": [
    "import pandas as pd\n",
    "import numpy as np"
   ]
  },
  {
   "cell_type": "markdown",
   "metadata": {},
   "source": [
    "# Descriptions"
   ]
  },
  {
   "cell_type": "code",
   "execution_count": 9,
   "metadata": {},
   "outputs": [],
   "source": [
    "intervals = pd.read_csv('test.bed', sep='\\t',\n",
    "                        names=['Seq', 'Start', 'End'],\n",
    "                        index_col=0,\n",
    "                        dtype={'Start':np.int32, 'End':np.int32})\n"
   ]
  },
  {
   "cell_type": "code",
   "execution_count": 13,
   "metadata": {},
   "outputs": [],
   "source": [
    "res = (intervals.End-intervals.Start).groupby('Seq').sum()"
   ]
  },
  {
   "cell_type": "code",
   "execution_count": 17,
   "metadata": {},
   "outputs": [
    {
     "data": {
      "text/plain": [
       "'chr1\\t300\\r\\nchr2\\t50\\r\\n'"
      ]
     },
     "execution_count": 17,
     "metadata": {},
     "output_type": "execute_result"
    }
   ],
   "source": [
    "res.to_csv(header=False, sep='\\t')"
   ]
  },
  {
   "cell_type": "markdown",
   "metadata": {},
   "source": [
    "# Study Mapping"
   ]
  },
  {
   "cell_type": "markdown",
   "metadata": {},
   "source": [
    "So a big problem here is that some studies quote multiple capture technologies for their samples.\n",
    "If available, I'd check the Venn Diagram of the captures for those studies and _maybe_ also check each sample's coverage in the intersections to try to assign the samples to each retrospectively.\n",
    "Otherwise, we're left with what's available for capture intervals."
   ]
  },
  {
   "cell_type": "code",
   "execution_count": null,
   "metadata": {},
   "outputs": [],
   "source": [
    "capture_kits = {\n",
    "    \"AAPC\"          : None,\n",
    "    \"Broad/Cornell\" : \"SureSelectv4\", # actually v2, not in my possession\n",
    "    \"CMI\"           : \"Nextera Rapid Capture\",\n",
    "    \"Nelson\"        : \"Nimblegen SeqCapv3\", # and v2, not in my possession\n",
    "    \"NEPC\"          : \"SureSelectv4\", # and v2, and HaloPlex, neither in my possession\n",
    "    \"PROSNEOLCM\"    : \"SureSelectv4\", # same as above\n",
    "    \"PCF_SU2C\"      : \"SureSelectv4\",\n",
    "    \"TCGA\"          : \"SureSelectv4\", # version unspecified\n",
    "}"
   ]
  },
  {
   "cell_type": "code",
   "execution_count": null,
   "metadata": {},
   "outputs": [],
   "source": [
    "# script to take tsv from Terra and add a column for the paths to the interval files for the capture kits based on the original project (workspace)\n",
    "#  this may need to splice info from the spreadsheet from Saud"
   ]
  }
 ],
 "metadata": {
  "kernelspec": {
   "display_name": "base",
   "language": "python",
   "name": "python3"
  },
  "language_info": {
   "codemirror_mode": {
    "name": "ipython",
    "version": 3
   },
   "file_extension": ".py",
   "mimetype": "text/x-python",
   "name": "python",
   "nbconvert_exporter": "python",
   "pygments_lexer": "ipython3",
   "version": "3.8.8"
  },
  "orig_nbformat": 4
 },
 "nbformat": 4,
 "nbformat_minor": 2
}
